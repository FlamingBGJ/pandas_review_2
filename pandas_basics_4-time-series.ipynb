{
 "cells": [
  {
   "cell_type": "markdown",
   "metadata": {
    "slideshow": {
     "slide_type": "slide"
    }
   },
   "source": [
    "## Agenda\n",
    "- TimeSeries Data\n",
    "- 시간의 흐름에 따라 변화 하는 data"
   ]
  },
  {
   "cell_type": "code",
   "execution_count": 1,
   "metadata": {
    "slideshow": {
     "slide_type": "skip"
    }
   },
   "outputs": [],
   "source": [
    "import pandas as pd\n",
    "import numpy as np\n",
    "\n",
    "np.random.seed(252) # 동일한 결과를 내기 위해서는 동일한 시드를 고정시켜서 적용해야한다.\n"
   ]
  },
  {
   "cell_type": "markdown",
   "metadata": {
    "slideshow": {
     "slide_type": "slide"
    }
   },
   "source": [
    "## Time Series"
   ]
  },
  {
   "cell_type": "markdown",
   "metadata": {
    "slideshow": {
     "slide_type": "fragment"
    }
   },
   "source": [
    "- \"timeseries\" 데이터는 `DatetimeIndex` 또는 `PeriodIndex`로 구성된 데이터 셋이다"
   ]
  },
  {
   "cell_type": "markdown",
   "metadata": {},
   "source": [
    "### to_datetime"
   ]
  },
  {
   "cell_type": "code",
   "execution_count": 2,
   "metadata": {},
   "outputs": [],
   "source": [
    "data_1 = pd.to_datetime(\"20221206\")"
   ]
  },
  {
   "cell_type": "code",
   "execution_count": 3,
   "metadata": {},
   "outputs": [
    {
     "name": "stdout",
     "output_type": "stream",
     "text": [
      "2022-12-06 00:00:00\n"
     ]
    },
    {
     "data": {
      "text/plain": [
       "pandas._libs.tslibs.timestamps.Timestamp"
      ]
     },
     "execution_count": 3,
     "metadata": {},
     "output_type": "execute_result"
    }
   ],
   "source": [
    "print(data_1)\n",
    "type(data_1)"
   ]
  },
  {
   "cell_type": "code",
   "execution_count": 4,
   "metadata": {},
   "outputs": [
    {
     "data": {
      "text/plain": [
       "Timestamp('2022-12-06 00:00:00')"
      ]
     },
     "execution_count": 4,
     "metadata": {},
     "output_type": "execute_result"
    }
   ],
   "source": [
    "data_2 = pd.to_datetime(\"2022-12-06\")\n",
    "data_2"
   ]
  },
  {
   "cell_type": "markdown",
   "metadata": {
    "slideshow": {
     "slide_type": "slide"
    }
   },
   "source": [
    "### sample data 생성"
   ]
  },
  {
   "cell_type": "code",
   "execution_count": 5,
   "metadata": {},
   "outputs": [],
   "source": [
    "def random_series(dts):\n",
    "    res = pd.Series(np.random.randn(len(dts)), index=dts)\n",
    "    return res"
   ]
  },
  {
   "cell_type": "markdown",
   "metadata": {},
   "source": [
    "`Timestamp` 를 이용해 시간 객체 생성"
   ]
  },
  {
   "cell_type": "code",
   "execution_count": 8,
   "metadata": {
    "slideshow": {
     "slide_type": "fragment"
    }
   },
   "outputs": [],
   "source": [
    "ts = pd.Timestamp(\"2022-01-01 00:00\")"
   ]
  },
  {
   "cell_type": "code",
   "execution_count": 10,
   "metadata": {},
   "outputs": [
    {
     "data": {
      "text/plain": [
       "2022-01-01    100\n",
       "dtype: int64"
      ]
     },
     "execution_count": 10,
     "metadata": {},
     "output_type": "execute_result"
    }
   ],
   "source": [
    "s_1 = pd.Series(100, index = [ts])\n",
    "s_1"
   ]
  },
  {
   "cell_type": "code",
   "execution_count": 12,
   "metadata": {},
   "outputs": [
    {
     "data": {
      "text/plain": [
       "2022-01-01    100\n",
       "dtype: int64"
      ]
     },
     "execution_count": 12,
     "metadata": {},
     "output_type": "execute_result"
    }
   ],
   "source": [
    "random_series(s_1)\n",
    "s_1"
   ]
  },
  {
   "cell_type": "markdown",
   "metadata": {
    "slideshow": {
     "slide_type": "slide"
    }
   },
   "source": [
    "## Time Series의 함수들\n",
    "- `date_range` : 시작일과 종료일 또는 시작일과 기간을 입력하면 범위 내의 인덱스 생성\n",
    "```\n",
    "s: 초\n",
    "T: 분\n",
    "H: 시간\n",
    "D: 일(day)\n",
    "B: 주말이 아닌 평일\n",
    "W: 주(일요일)\n",
    "W-MON: 주(월요일)\n",
    "M: 각 달(month)의 마지막 날\n",
    "MS: 각 달의 첫날\n",
    "BM: 주말이 아닌 평일 중에서 각 달의 마지막 날\n",
    "BMS: 주말이 아닌 평일 중에서 각 달의 첫날\n",
    "WOM-2THU: 각 달의 두번째 목요일\n",
    "Q-JAN: 각 분기의 첫달의 마지막 날\n",
    "Q-DEC: 각 분기의 마지막 달의 마지막 날\n",
    "```"
   ]
  },
  {
   "cell_type": "code",
   "execution_count": 15,
   "metadata": {
    "slideshow": {
     "slide_type": "fragment"
    }
   },
   "outputs": [],
   "source": [
    "# 1년동안 평일 생성\n",
    "dts = pd.date_range(\"2023-01-01\", \"2023-12-31\", freq=\"B\")"
   ]
  },
  {
   "cell_type": "markdown",
   "metadata": {
    "slideshow": {
     "slide_type": "slide"
    }
   },
   "source": [
    "## 시계열 데이터에서의 indexing 과 slicing"
   ]
  },
  {
   "cell_type": "code",
   "execution_count": 16,
   "metadata": {
    "slideshow": {
     "slide_type": "fragment"
    }
   },
   "outputs": [],
   "source": [
    "df_dts = random_series(dts)"
   ]
  },
  {
   "cell_type": "code",
   "execution_count": 17,
   "metadata": {},
   "outputs": [
    {
     "data": {
      "text/plain": [
       "2023-01-02   -0.382089\n",
       "2023-01-03   -1.095396\n",
       "2023-01-04    2.584973\n",
       "2023-01-05    0.609342\n",
       "2023-01-06    0.422472\n",
       "                ...   \n",
       "2023-12-25   -0.362809\n",
       "2023-12-26    0.500747\n",
       "2023-12-27   -1.402560\n",
       "2023-12-28    1.589578\n",
       "2023-12-29    0.030661\n",
       "Freq: B, Length: 260, dtype: float64"
      ]
     },
     "execution_count": 17,
     "metadata": {},
     "output_type": "execute_result"
    }
   ],
   "source": [
    "# 1년치 평일 데이터\n",
    "df_dts"
   ]
  },
  {
   "cell_type": "markdown",
   "metadata": {},
   "source": [
    "- indexing"
   ]
  },
  {
   "cell_type": "code",
   "execution_count": 18,
   "metadata": {},
   "outputs": [
    {
     "data": {
      "text/plain": [
       "2023-01-02   -0.382089\n",
       "2023-01-03   -1.095396\n",
       "2023-01-04    2.584973\n",
       "2023-01-05    0.609342\n",
       "2023-01-06    0.422472\n",
       "Freq: B, dtype: float64"
      ]
     },
     "execution_count": 18,
     "metadata": {},
     "output_type": "execute_result"
    }
   ],
   "source": [
    "df_dts.head()"
   ]
  },
  {
   "cell_type": "markdown",
   "metadata": {},
   "source": [
    "- slicing"
   ]
  },
  {
   "cell_type": "code",
   "execution_count": 19,
   "metadata": {
    "scrolled": true,
    "slideshow": {
     "slide_type": "fragment"
    }
   },
   "outputs": [
    {
     "data": {
      "text/plain": [
       "2023-01-02   -0.382089\n",
       "2023-01-03   -1.095396\n",
       "2023-01-04    2.584973\n",
       "2023-01-05    0.609342\n",
       "2023-01-06    0.422472\n",
       "2023-01-09    0.729424\n",
       "2023-01-10    0.166462\n",
       "2023-01-11   -0.116233\n",
       "2023-01-12   -0.241028\n",
       "2023-01-13    1.351330\n",
       "2023-01-16   -0.023758\n",
       "2023-01-17   -0.860729\n",
       "2023-01-18    0.459902\n",
       "2023-01-19   -0.637519\n",
       "2023-01-20   -0.557816\n",
       "2023-01-23   -1.384513\n",
       "2023-01-24    0.796268\n",
       "2023-01-25   -0.754168\n",
       "2023-01-26    1.150661\n",
       "2023-01-27    1.112391\n",
       "2023-01-30    0.169364\n",
       "2023-01-31    1.100328\n",
       "2023-02-01    1.466494\n",
       "2023-02-02    1.552422\n",
       "2023-02-03   -0.029403\n",
       "Freq: B, dtype: float64"
      ]
     },
     "execution_count": 19,
     "metadata": {},
     "output_type": "execute_result"
    }
   ],
   "source": [
    "df_dts[\"2023-01-02\":\"2023-02-05\"]"
   ]
  },
  {
   "cell_type": "code",
   "execution_count": 20,
   "metadata": {},
   "outputs": [
    {
     "data": {
      "text/plain": [
       "-0.3820889110483213"
      ]
     },
     "execution_count": 20,
     "metadata": {},
     "output_type": "execute_result"
    }
   ],
   "source": [
    "df_dts.loc[\"2023-01-02\"]"
   ]
  },
  {
   "cell_type": "code",
   "execution_count": 23,
   "metadata": {},
   "outputs": [
    {
     "data": {
      "text/plain": [
       "2023-01-02   -0.382089\n",
       "Freq: B, dtype: float64"
      ]
     },
     "execution_count": 23,
     "metadata": {},
     "output_type": "execute_result"
    }
   ],
   "source": [
    "df_dts[df_dts == -0.3820889110483213]"
   ]
  },
  {
   "cell_type": "markdown",
   "metadata": {
    "slideshow": {
     "slide_type": "slide"
    }
   },
   "source": [
    "- 달별 선택"
   ]
  },
  {
   "cell_type": "code",
   "execution_count": 24,
   "metadata": {
    "slideshow": {
     "slide_type": "fragment"
    }
   },
   "outputs": [
    {
     "data": {
      "text/plain": [
       "2023-01-02   -0.382089\n",
       "2023-01-03   -1.095396\n",
       "2023-01-04    2.584973\n",
       "2023-01-05    0.609342\n",
       "2023-01-06    0.422472\n",
       "2023-01-09    0.729424\n",
       "2023-01-10    0.166462\n",
       "2023-01-11   -0.116233\n",
       "2023-01-12   -0.241028\n",
       "2023-01-13    1.351330\n",
       "2023-01-16   -0.023758\n",
       "2023-01-17   -0.860729\n",
       "2023-01-18    0.459902\n",
       "2023-01-19   -0.637519\n",
       "2023-01-20   -0.557816\n",
       "2023-01-23   -1.384513\n",
       "2023-01-24    0.796268\n",
       "2023-01-25   -0.754168\n",
       "2023-01-26    1.150661\n",
       "2023-01-27    1.112391\n",
       "2023-01-30    0.169364\n",
       "2023-01-31    1.100328\n",
       "2023-02-01    1.466494\n",
       "2023-02-02    1.552422\n",
       "2023-02-03   -0.029403\n",
       "2023-02-06    1.490901\n",
       "2023-02-07    0.773826\n",
       "2023-02-08    1.192146\n",
       "2023-02-09   -0.166685\n",
       "2023-02-10    0.937214\n",
       "2023-02-13    0.844255\n",
       "2023-02-14   -0.069520\n",
       "2023-02-15   -0.523621\n",
       "2023-02-16   -0.334526\n",
       "2023-02-17    0.052627\n",
       "2023-02-20   -1.765642\n",
       "2023-02-21    1.303445\n",
       "2023-02-22   -1.584839\n",
       "2023-02-23   -0.206658\n",
       "2023-02-24   -0.931791\n",
       "2023-02-27   -0.126712\n",
       "2023-02-28   -0.599234\n",
       "Freq: B, dtype: float64"
      ]
     },
     "execution_count": 24,
     "metadata": {},
     "output_type": "execute_result"
    }
   ],
   "source": [
    "df_dts[\"2023-01\":\"2023-02\"]"
   ]
  },
  {
   "cell_type": "markdown",
   "metadata": {
    "slideshow": {
     "slide_type": "slide"
    }
   },
   "source": [
    "- 연별 선택"
   ]
  },
  {
   "cell_type": "code",
   "execution_count": 25,
   "metadata": {
    "slideshow": {
     "slide_type": "fragment"
    }
   },
   "outputs": [
    {
     "data": {
      "text/plain": [
       "2023-01-02   -0.382089\n",
       "2023-01-03   -1.095396\n",
       "2023-01-04    2.584973\n",
       "2023-01-05    0.609342\n",
       "2023-01-06    0.422472\n",
       "                ...   \n",
       "2023-12-25   -0.362809\n",
       "2023-12-26    0.500747\n",
       "2023-12-27   -1.402560\n",
       "2023-12-28    1.589578\n",
       "2023-12-29    0.030661\n",
       "Freq: B, Length: 260, dtype: float64"
      ]
     },
     "execution_count": 25,
     "metadata": {},
     "output_type": "execute_result"
    }
   ],
   "source": [
    "df_dts[\"2023\"]"
   ]
  },
  {
   "cell_type": "markdown",
   "metadata": {
    "slideshow": {
     "slide_type": "slide"
    }
   },
   "source": [
    "## 시계열 데이터의 이동 \n",
    "- `shift()` 를 이용해 이동할 수 있다. \n",
    "- [참고](https://towardsdatascience.com/all-the-pandas-shift-you-should-know-for-data-analysis-791c1692b5e)"
   ]
  },
  {
   "cell_type": "markdown",
   "metadata": {
    "slideshow": {
     "slide_type": "slide"
    }
   },
   "source": [
    "### Lagging(후행)"
   ]
  },
  {
   "cell_type": "code",
   "execution_count": 26,
   "metadata": {},
   "outputs": [
    {
     "data": {
      "text/plain": [
       "2023-01-02   -0.382089\n",
       "2023-01-03   -1.095396\n",
       "2023-01-05    0.609342\n",
       "2023-01-30    0.169364\n",
       "2023-01-31    1.100328\n",
       "dtype: float64"
      ]
     },
     "execution_count": 26,
     "metadata": {},
     "output_type": "execute_result"
    }
   ],
   "source": [
    "df_dts[\"2023-01\"].iloc[[0,1,3,-2,-1]]"
   ]
  },
  {
   "cell_type": "code",
   "execution_count": 28,
   "metadata": {},
   "outputs": [],
   "source": [
    "df_dts_log = df_dts[\"2023-01\"].copy()"
   ]
  },
  {
   "cell_type": "code",
   "execution_count": 29,
   "metadata": {},
   "outputs": [
    {
     "data": {
      "text/plain": [
       "2023-01-02         NaN\n",
       "2023-01-03   -0.382089\n",
       "2023-01-04   -1.095396\n",
       "2023-01-05    2.584973\n",
       "2023-01-06    0.609342\n",
       "2023-01-09    0.422472\n",
       "2023-01-10    0.729424\n",
       "2023-01-11    0.166462\n",
       "2023-01-12   -0.116233\n",
       "2023-01-13   -0.241028\n",
       "2023-01-16    1.351330\n",
       "2023-01-17   -0.023758\n",
       "2023-01-18   -0.860729\n",
       "2023-01-19    0.459902\n",
       "2023-01-20   -0.637519\n",
       "2023-01-23   -0.557816\n",
       "2023-01-24   -1.384513\n",
       "2023-01-25    0.796268\n",
       "2023-01-26   -0.754168\n",
       "2023-01-27    1.150661\n",
       "2023-01-30    1.112391\n",
       "2023-01-31    0.169364\n",
       "Freq: B, dtype: float64"
      ]
     },
     "execution_count": 29,
     "metadata": {},
     "output_type": "execute_result"
    }
   ],
   "source": [
    "df_dts_log.shift(1)"
   ]
  },
  {
   "cell_type": "markdown",
   "metadata": {
    "slideshow": {
     "slide_type": "slide"
    }
   },
   "source": [
    "### Leading(선행)"
   ]
  },
  {
   "cell_type": "code",
   "execution_count": 30,
   "metadata": {},
   "outputs": [
    {
     "data": {
      "text/plain": [
       "2023-01-02    2.584973\n",
       "2023-01-03    0.609342\n",
       "2023-01-04    0.422472\n",
       "2023-01-05    0.729424\n",
       "2023-01-06    0.166462\n",
       "2023-01-09   -0.116233\n",
       "2023-01-10   -0.241028\n",
       "2023-01-11    1.351330\n",
       "2023-01-12   -0.023758\n",
       "2023-01-13   -0.860729\n",
       "2023-01-16    0.459902\n",
       "2023-01-17   -0.637519\n",
       "2023-01-18   -0.557816\n",
       "2023-01-19   -1.384513\n",
       "2023-01-20    0.796268\n",
       "2023-01-23   -0.754168\n",
       "2023-01-24    1.150661\n",
       "2023-01-25    1.112391\n",
       "2023-01-26    0.169364\n",
       "2023-01-27    1.100328\n",
       "2023-01-30         NaN\n",
       "2023-01-31         NaN\n",
       "Freq: B, dtype: float64"
      ]
     },
     "execution_count": 30,
     "metadata": {},
     "output_type": "execute_result"
    }
   ],
   "source": [
    "df_dts_log.shift(-2)"
   ]
  },
  {
   "cell_type": "markdown",
   "metadata": {
    "slideshow": {
     "slide_type": "slide"
    }
   },
   "source": [
    "## 간격 재조정\n",
    "- `resample` : 시간 간격을 재조정하는 resampling 가능"
   ]
  },
  {
   "cell_type": "code",
   "execution_count": 34,
   "metadata": {
    "slideshow": {
     "slide_type": "fragment"
    }
   },
   "outputs": [],
   "source": [
    "dts_1 = pd.date_range(\"2022-01-01\", \"2022-03-31\", freq=\"D\")"
   ]
  },
  {
   "cell_type": "code",
   "execution_count": 36,
   "metadata": {},
   "outputs": [],
   "source": [
    "ts_1 = random_series(dts_1)"
   ]
  },
  {
   "cell_type": "code",
   "execution_count": 42,
   "metadata": {},
   "outputs": [
    {
     "data": {
      "text/plain": [
       "2022-01-01    0.426659\n",
       "2022-01-02    0.665403\n",
       "2022-01-03   -1.009938\n",
       "2022-01-04   -0.589423\n",
       "2022-01-05   -0.504908\n",
       "                ...   \n",
       "2022-03-27    1.132766\n",
       "2022-03-28   -1.487199\n",
       "2022-03-29   -0.560010\n",
       "2022-03-30    0.736192\n",
       "2022-03-31   -0.278238\n",
       "Freq: D, Length: 90, dtype: float64"
      ]
     },
     "execution_count": 42,
     "metadata": {},
     "output_type": "execute_result"
    }
   ],
   "source": [
    "ts_1.resample(\"M\")\n",
    "ts_1"
   ]
  },
  {
   "cell_type": "markdown",
   "metadata": {
    "slideshow": {
     "slide_type": "slide"
    }
   },
   "source": [
    "- Resampling은 groupby와 비슷하게 동작한다. "
   ]
  },
  {
   "cell_type": "code",
   "execution_count": 40,
   "metadata": {},
   "outputs": [
    {
     "data": {
      "text/plain": [
       "2022-01-31   -0.220558\n",
       "2022-02-28   -0.010355\n",
       "2022-03-31    0.213579\n",
       "Freq: M, dtype: float64"
      ]
     },
     "execution_count": 40,
     "metadata": {},
     "output_type": "execute_result"
    }
   ],
   "source": [
    "ts_1.resample(\"M\").mean()"
   ]
  },
  {
   "cell_type": "code",
   "execution_count": 46,
   "metadata": {
    "slideshow": {
     "slide_type": "fragment"
    }
   },
   "outputs": [
    {
     "data": {
      "text/html": [
       "<div>\n",
       "<style scoped>\n",
       "    .dataframe tbody tr th:only-of-type {\n",
       "        vertical-align: middle;\n",
       "    }\n",
       "\n",
       "    .dataframe tbody tr th {\n",
       "        vertical-align: top;\n",
       "    }\n",
       "\n",
       "    .dataframe thead th {\n",
       "        text-align: right;\n",
       "    }\n",
       "</style>\n",
       "<table border=\"1\" class=\"dataframe\">\n",
       "  <thead>\n",
       "    <tr style=\"text-align: right;\">\n",
       "      <th></th>\n",
       "      <th>mean</th>\n",
       "      <th>std</th>\n",
       "    </tr>\n",
       "  </thead>\n",
       "  <tbody>\n",
       "    <tr>\n",
       "      <th>2022-01-31</th>\n",
       "      <td>-0.220558</td>\n",
       "      <td>0.893503</td>\n",
       "    </tr>\n",
       "    <tr>\n",
       "      <th>2022-02-28</th>\n",
       "      <td>-0.010355</td>\n",
       "      <td>1.069440</td>\n",
       "    </tr>\n",
       "    <tr>\n",
       "      <th>2022-03-31</th>\n",
       "      <td>0.213579</td>\n",
       "      <td>0.970263</td>\n",
       "    </tr>\n",
       "  </tbody>\n",
       "</table>\n",
       "</div>"
      ],
      "text/plain": [
       "                mean       std\n",
       "2022-01-31 -0.220558  0.893503\n",
       "2022-02-28 -0.010355  1.069440\n",
       "2022-03-31  0.213579  0.970263"
      ]
     },
     "execution_count": 46,
     "metadata": {},
     "output_type": "execute_result"
    }
   ],
   "source": [
    "ts_1.resample(\"M\").agg([\"mean\",\"std\"])"
   ]
  },
  {
   "cell_type": "markdown",
   "metadata": {},
   "source": [
    "## dt접근자\n",
    "- datetime 자료형 시리즈에는 dt 접근자존재\n",
    "- datetime 자료형이 가진 몇가지 유용한 속성과 메서드를 사용할"
   ]
  },
  {
   "cell_type": "code",
   "execution_count": 49,
   "metadata": {},
   "outputs": [
    {
     "data": {
      "text/plain": [
       "Index(['22년 01월 01일', '22년 01월 02일', '22년 01월 03일', '22년 01월 04일',\n",
       "       '22년 01월 05일', '22년 01월 06일', '22년 01월 07일', '22년 01월 08일',\n",
       "       '22년 01월 09일', '22년 01월 10일', '22년 01월 11일', '22년 01월 12일',\n",
       "       '22년 01월 13일', '22년 01월 14일', '22년 01월 15일', '22년 01월 16일',\n",
       "       '22년 01월 17일', '22년 01월 18일', '22년 01월 19일', '22년 01월 20일',\n",
       "       '22년 01월 21일', '22년 01월 22일', '22년 01월 23일', '22년 01월 24일',\n",
       "       '22년 01월 25일', '22년 01월 26일', '22년 01월 27일', '22년 01월 28일',\n",
       "       '22년 01월 29일', '22년 01월 30일', '22년 01월 31일', '22년 02월 01일',\n",
       "       '22년 02월 02일', '22년 02월 03일', '22년 02월 04일', '22년 02월 05일',\n",
       "       '22년 02월 06일', '22년 02월 07일', '22년 02월 08일', '22년 02월 09일',\n",
       "       '22년 02월 10일', '22년 02월 11일', '22년 02월 12일', '22년 02월 13일',\n",
       "       '22년 02월 14일', '22년 02월 15일', '22년 02월 16일', '22년 02월 17일',\n",
       "       '22년 02월 18일', '22년 02월 19일', '22년 02월 20일', '22년 02월 21일',\n",
       "       '22년 02월 22일', '22년 02월 23일', '22년 02월 24일', '22년 02월 25일',\n",
       "       '22년 02월 26일', '22년 02월 27일', '22년 02월 28일', '22년 03월 01일',\n",
       "       '22년 03월 02일', '22년 03월 03일', '22년 03월 04일', '22년 03월 05일',\n",
       "       '22년 03월 06일', '22년 03월 07일', '22년 03월 08일', '22년 03월 09일',\n",
       "       '22년 03월 10일', '22년 03월 11일', '22년 03월 12일', '22년 03월 13일',\n",
       "       '22년 03월 14일', '22년 03월 15일', '22년 03월 16일', '22년 03월 17일',\n",
       "       '22년 03월 18일', '22년 03월 19일', '22년 03월 20일', '22년 03월 21일',\n",
       "       '22년 03월 22일', '22년 03월 23일', '22년 03월 24일', '22년 03월 25일',\n",
       "       '22년 03월 26일', '22년 03월 27일', '22년 03월 28일', '22년 03월 29일',\n",
       "       '22년 03월 30일', '22년 03월 31일'],\n",
       "      dtype='object')"
      ]
     },
     "execution_count": 49,
     "metadata": {},
     "output_type": "execute_result"
    }
   ],
   "source": [
    "dts_1.strftime(\"%y년 %m월 %d일\") # 각 시계열 변수는 고정 ex) y는 년, m은 달, d는 일"
   ]
  }
 ],
 "metadata": {
  "celltoolbar": "Slideshow",
  "kernelspec": {
   "display_name": "Python 3.8.10 64-bit",
   "language": "python",
   "name": "python3"
  },
  "language_info": {
   "codemirror_mode": {
    "name": "ipython",
    "version": 3
   },
   "file_extension": ".py",
   "mimetype": "text/x-python",
   "name": "python",
   "nbconvert_exporter": "python",
   "pygments_lexer": "ipython3",
   "version": "3.8.10"
  },
  "toc": {
   "base_numbering": 1,
   "nav_menu": {},
   "number_sections": false,
   "sideBar": true,
   "skip_h1_title": true,
   "title_cell": "Table of Contents",
   "title_sidebar": "Contents",
   "toc_cell": false,
   "toc_position": {
    "height": "calc(100% - 180px)",
    "left": "10px",
    "top": "150px",
    "width": "384px"
   },
   "toc_section_display": true,
   "toc_window_display": true
  },
  "vscode": {
   "interpreter": {
    "hash": "916dbcbb3f70747c44a77c7bcd40155683ae19c65e1c03b4aa3499c5328201f1"
   }
  }
 },
 "nbformat": 4,
 "nbformat_minor": 4
}
